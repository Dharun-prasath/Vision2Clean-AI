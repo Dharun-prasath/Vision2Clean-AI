{
 "cells": [
  {
   "cell_type": "markdown",
   "id": "b160008b",
   "metadata": {},
   "source": [
    "# Vision2Clean AI Notebook\n",
    "\n",
    "Welcome! This notebook guides you through setting up a scalable, human-friendly real-time waste detection and mapping system using YOLO, OpenCV, and Folium."
   ]
  },
  {
   "cell_type": "markdown",
   "id": "d9fb50c9",
   "metadata": {},
   "source": [
    "## Getting Started: Your Smart Waste Detection System\n",
    "\n",
    "This section will help you configure and launch your own real-time waste detection pipeline. Just follow the steps and customize as needed!"
   ]
  },
  {
   "cell_type": "code",
   "execution_count": null,
   "id": "f8fa54c2",
   "metadata": {},
   "outputs": [],
   "source": [
    "# --- User Configuration ---\n",
    "# Set your model path, video source, and camera GPS location here.\n",
    "MODEL_PATH = 'yolov8n.pt'  # Path to your YOLO model (change if you have a custom model)\n",
    "VIDEO_SOURCE = 0  # 0 = webcam, or provide a video file path or IP camera URL\n",
    "CAMERA_GPS = (12.9716, 77.5946)  # (latitude, longitude) of your camera location"
   ]
  },
  {
   "cell_type": "code",
   "execution_count": null,
   "id": "53a9a3f6",
   "metadata": {},
   "outputs": [],
   "source": [
    "# --- Model and Video Setup ---\n",
    "import cv2\n",
    "from ultralytics import YOLO\n",
    "\n",
    "try:\n",
    "    model = YOLO(MODEL_PATH)\n",
    "    print(f'Model loaded: {MODEL_PATH}')\n",
    "except Exception as e:\n",
    "    raise RuntimeError(f'Failed to load YOLO model: {e}')\n",
    "\n",
    "cap = cv2.VideoCapture(VIDEO_SOURCE)\n",
    "if not cap.isOpened():\n",
    "    raise RuntimeError(f'Cannot open video source: {VIDEO_SOURCE}')\n",
    "print(f'Video source opened: {VIDEO_SOURCE}')"
   ]
  },
  {
   "cell_type": "code",
   "execution_count": null,
   "id": "d236e759",
   "metadata": {},
   "outputs": [],
   "source": [
    "# --- Real-Time Detection Loop ---\n",
    "import time\n",
    "import logging\n",
    "\n",
    "logging.basicConfig(filename='vision2clean.log', level=logging.INFO, \n",
    "                    format='%(asctime)s %(levelname)s:%(message)s')\n",
    "\n",
    "def process_frame(frame, model, gps, frame_num):\n",
    "    \"\"\"Detect objects in a frame, draw boxes, and return detection info.\"\"\"\n",
    "    results = model(frame)\n",
    "    boxes = results[0].boxes\n",
    "    detections = []\n",
    "    for box in boxes:\n",
    "        x1, y1, x2, y2 = map(int, box.xyxy[0])\n",
    "        cls = int(box.cls[0])\n",
    "        conf = float(box.conf[0])\n",
    "        label = model.names[cls] if hasattr(model, 'names') else str(cls)\n",
    "        # Draw bounding box and label\n",
    "        cv2.rectangle(frame, (x1, y1), (x2, y2), (0,255,0), 2)\n",
    "        cv2.putText(frame, f'{label} {conf:.2f}', (x1, y1-10), cv2.FONT_HERSHEY_SIMPLEX, 0.6, (0,255,0), 2)\n",
    "        detection = {'frame': frame_num, 'label': label, 'confidence': conf, 'gps': gps}\n",
    "        detections.append(detection)\n",
    "        logging.info(f\"Frame {frame_num}: {label} ({conf:.2f}) at {gps}\")\n",
    "    return frame, detections\n",
    "\n",
    "def run_detection_loop(model, cap, gps):\n",
    "    \"\"\"Run the main detection loop, display results, and log detections.\"\"\"\n",
    "    detections_log = []\n",
    "    frame_num = 0\n",
    "    start_time = time.time()\n",
    "    print('Starting detection. Press \"q\" to quit.')\n",
    "    try:\n",
    "        while True:\n",
    "            ret, frame = cap.read()\n",
    "            if not ret:\n",
    "                print('No frame received. Exiting...')\n",
    "                break\n",
    "            processed_frame, detections = process_frame(frame, model, gps, frame_num)\n",
    "            detections_log.extend(detections)\n",
    "            frame_num += 1\n",
    "            # Show FPS\n",
    "            elapsed = time.time() - start_time\n",
    "            fps = frame_num / elapsed if elapsed > 0 else 0\n",
    "            cv2.putText(processed_frame, f'FPS: {fps:.2f}', (10, 30), cv2.FONT_HERSHEY_SIMPLEX, 1, (255,0,0), 2)\n",
    "            cv2.imshow('Vision2Clean Detection', processed_frame)\n",
    "            if cv2.waitKey(1) & 0xFF == ord('q'):\n",
    "                print('Detection stopped by user.')\n",
    "                break\n",
    "    except Exception as e:\n",
    "        logging.error(f\"Error during detection: {e}\")\n",
    "        print(f'Error: {e}')\n",
    "    finally:\n",
    "        cap.release()\n",
    "        cv2.destroyAllWindows()\n",
    "        print('Resources released.')\n",
    "    print(f'Total frames: {frame_num}, Total detections: {len(detections_log)}')\n",
    "    return detections_log\n",
    "\n",
    "detections_log = run_detection_loop(model, cap, CAMERA_GPS)"
   ]
  },
  {
   "cell_type": "code",
   "execution_count": null,
   "id": "39f9bf21",
   "metadata": {},
   "outputs": [],
   "source": [
    "# --- Save and Visualize Detections ---\n",
    "# Install pandas and folium if needed: %pip install pandas folium\n",
    "import pandas as pd\n",
    "import folium\n",
    "\n",
    "if detections_log:\n",
    "    df = pd.DataFrame(detections_log)\n",
    "    df.to_csv('detections_log.csv', index=False)\n",
    "    print(f'Detections saved to detections_log.csv ({len(df)} records)')\n",
    "    # Create map and add markers for each detection\n",
    "    detection_map = folium.Map(location=CAMERA_GPS, zoom_start=12)\n",
    "    for _, row in df.iterrows():\n",
    "        folium.Marker(location=row['gps'], popup=f\"{row['label']} ({row['confidence']:.2f})\").add_to(detection_map)\n",
    "    print('Map with detections ready below:')\n",
    "    detection_map\n",
    "else:\n",
    "    print('No detections to save or visualize.')"
   ]
  },
  {
   "cell_type": "code",
   "execution_count": null,
   "id": "d7b42b69",
   "metadata": {},
   "outputs": [],
   "source": [
    "# --- Install Required Packages (run if needed) ---\n",
    "# %pip install ultralytics opencv-python folium pandas"
   ]
  },
  {
   "cell_type": "code",
   "execution_count": null,
   "id": "7ec33359",
   "metadata": {},
   "outputs": [],
   "source": [
    "# --- Check Library Versions ---\n",
    "from ultralytics import YOLO\n",
    "import cv2\n",
    "import folium\n",
    "import pandas as pd\n",
    "\n",
    "print('Ultralytics YOLO version:', YOLO.__module__)\n",
    "print('OpenCV version:', cv2.__version__)\n",
    "print('Folium version:', folium.__version__)\n",
    "print('Pandas version:', pd.__version__)"
   ]
  },
  {
   "cell_type": "code",
   "execution_count": null,
   "id": "e6263c90",
   "metadata": {},
   "outputs": [],
   "source": [
    "# Load default YOLOv8n model (change to your custom model path if available)\n",
    "model = YOLO('yolov8n.pt')\n",
    "print('Model loaded successfully')"
   ]
  },
  {
   "cell_type": "code",
   "execution_count": null,
   "id": "357dd2ce",
   "metadata": {},
   "outputs": [],
   "source": [
    "# Minimal detection example (using the image_path variable)\n",
    "results = model(\"D:\\Documents\\Portfolio.github\\Vision2Clean-AI\\sample.jpg\")\n",
    "results[0].show()  # Display detection results\n",
    "print(results[0].boxes)  # Print detected bounding boxes"
   ]
  },
  {
   "cell_type": "code",
   "execution_count": null,
   "id": "b7712548",
   "metadata": {},
   "outputs": [],
   "source": [
    "# Minimal map visualization example\n",
    "# Replace with actual coordinates and detection info\n",
    "m = folium.Map(location=[12.9716, 77.5946], zoom_start=12)\n",
    "folium.Marker([12.9716, 77.5946], popup='Detected Waste: Plastic').add_to(m)\n",
    "\n",
    "m"
   ]
  }
 ],
 "metadata": {
  "kernelspec": {
   "display_name": "venv",
   "language": "python",
   "name": "python3"
  },
  "language_info": {
   "codemirror_mode": {
    "name": "ipython",
    "version": 3
   },
   "file_extension": ".py",
   "mimetype": "text/x-python",
   "name": "python",
   "nbconvert_exporter": "python",
   "pygments_lexer": "ipython3",
   "version": "3.11.8"
  }
 },
 "nbformat": 4,
 "nbformat_minor": 5
}
