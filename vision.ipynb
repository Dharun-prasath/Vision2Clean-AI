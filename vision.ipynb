{
 "cells": [
  {
   "cell_type": "markdown",
   "id": "b160008b",
   "metadata": {},
   "source": [
    "VISION2CLEAN NOTEBOOK"
   ]
  },
  {
   "cell_type": "markdown",
   "id": "d9fb50c9",
   "metadata": {},
   "source": [
    "## Standard Setup for Vision2Clean AI\n",
    "This section demonstrates a standard setup for real-time waste detection using YOLO, live video feed, and logging detections with map visualization."
   ]
  },
  {
   "cell_type": "code",
   "execution_count": null,
   "id": "f8fa54c2",
   "metadata": {},
   "outputs": [],
   "source": [
    "# --- User Configuration ---\n",
    "MODEL_PATH = 'yolov8n.pt'  # Change to your custom model if available\n",
    "VIDEO_SOURCE = 0  # 0 for webcam, or provide video file path or IP camera URL\n",
    "CAMERA_GPS = (12.9716, 77.5946)  # Example: (latitude, longitude)"
   ]
  },
  {
   "cell_type": "code",
   "execution_count": null,
   "id": "53a9a3f6",
   "metadata": {},
   "outputs": [],
   "source": [
    "# Load YOLO model and set up video capture\n",
    "import cv2\n",
    "from ultralytics import YOLO  # Ensure YOLO is imported\n",
    "\n",
    "model = YOLO(MODEL_PATH)\n",
    "print('Model loaded:', MODEL_PATH)\n",
    "\n",
    "cap = cv2.VideoCapture(VIDEO_SOURCE)\n",
    "if not cap.isOpened():\n",
    "    raise Exception(f'Cannot open video source: {VIDEO_SOURCE}')\n",
    "print('Video source opened:', VIDEO_SOURCE)"
   ]
  },
  {
   "cell_type": "code",
   "execution_count": null,
   "id": "d236e759",
   "metadata": {},
   "outputs": [],
   "source": [
    "# Production-ready real-time detection loop\n",
    "import csv\n",
    "import time\n",
    "import logging\n",
    "\n",
    "# Configure logging\n",
    "logging.basicConfig(filename='vision2clean.log', level=logging.INFO, \n",
    "                    format='%(asctime)s %(levelname)s:%(message)s')\n",
    "\n",
    "def process_frame(frame, model, gps, frame_count):\n",
    "    results = model(frame)\n",
    "    boxes = results[0].boxes\n",
    "    detections = []\n",
    "    for box in boxes:\n",
    "        x1, y1, x2, y2 = map(int, box.xyxy[0])\n",
    "        cls = int(box.cls[0])\n",
    "        conf = float(box.conf[0])\n",
    "        label = model.names[cls] if hasattr(model, 'names') else str(cls)\n",
    "        # Draw bounding box\n",
    "        cv2.rectangle(frame, (x1, y1), (x2, y2), (0,255,0), 2)\n",
    "        cv2.putText(frame, f'{label} {conf:.2f}', (x1, y1-10), cv2.FONT_HERSHEY_SIMPLEX, 0.6, (0,255,0), 2)\n",
    "        # Log detection\n",
    "        detection = {'frame': frame_count, 'label': label, 'confidence': conf, 'gps': gps}\n",
    "        detections.append(detection)\n",
    "        logging.info(f\"Frame {frame_count}: {label} ({conf:.2f}) at {gps}\")\n",
    "    return frame, detections\n",
    "\n",
    "detections_log = []\n",
    "frame_count = 0\n",
    "start_time = time.time()\n",
    "\n",
    "try:\n",
    "    while True:\n",
    "        ret, frame = cap.read()\n",
    "        if not ret:\n",
    "            logging.warning('No frame received. Exiting...')\n",
    "            break\n",
    "        processed_frame, detections = process_frame(frame, model, CAMERA_GPS, frame_count)\n",
    "        detections_log.extend(detections)\n",
    "        frame_count += 1\n",
    "        # Calculate and display FPS\n",
    "        elapsed = time.time() - start_time\n",
    "        fps = frame_count / elapsed if elapsed > 0 else 0\n",
    "        cv2.putText(processed_frame, f'FPS: {fps:.2f}', (10, 30), cv2.FONT_HERSHEY_SIMPLEX, 1, (255,0,0), 2)\n",
    "        cv2.imshow('Vision2Clean Detection', processed_frame)\n",
    "        if cv2.waitKey(1) & 0xFF == ord('q'):\n",
    "            break\n",
    "except Exception as e:\n",
    "    logging.error(f\"Error during detection: {e}\")\n",
    "finally:\n",
    "    cap.release()\n",
    "    cv2.destroyAllWindows()\n",
    "    logging.info('Detection stopped. Resources released.')\n",
    "\n",
    "# Print summary\n",
    "print(f'Total frames processed: {frame_count}')\n",
    "print(f'Total detections: {len(detections_log)}')\n",
    "if len(detections_log) > 0:\n",
    "    print('Sample detection:', detections_log[0])"
   ]
  },
  {
   "cell_type": "code",
   "execution_count": null,
   "id": "39f9bf21",
   "metadata": {},
   "outputs": [],
   "source": [
    "# Save detections to CSV and visualize on map\n",
    "%pip install pandas\n",
    "\n",
    "import pandas as pd\n",
    "import folium\n",
    "\n",
    "df = pd.DataFrame(detections_log)\n",
    "df.to_csv('detections_log.csv', index=False)\n",
    "print('Detections saved to detections_log.csv')\n",
    "\n",
    "# Create map and add markers for each detection\n",
    "detection_map = folium.Map(location=CAMERA_GPS, zoom_start=12)\n",
    "for _, row in df.iterrows():\n",
    "    folium.Marker(location=row['gps'], popup=f\"{row['label']} ({row['confidence']:.2f})\").add_to(detection_map)\n",
    "\n",
    "detection_map"
   ]
  },
  {
   "cell_type": "code",
   "execution_count": null,
   "id": "d7b42b69",
   "metadata": {},
   "outputs": [],
   "source": [
    "# Install required packages (uncomment if running for the first time)\n",
    "%pip install ultralytics opencv-python folium"
   ]
  },
  {
   "cell_type": "code",
   "execution_count": null,
   "id": "7ec33359",
   "metadata": {},
   "outputs": [],
   "source": [
    "# Import required libraries\n",
    "from ultralytics import YOLO\n",
    "import cv2\n",
    "import folium\n",
    "\n",
    "print('YOLOv11/Ultralytics version:', YOLO.__module__)\n",
    "print('OpenCV version:', cv2.__version__)\n",
    "print('Folium version:', folium.__version__)"
   ]
  },
  {
   "cell_type": "code",
   "execution_count": null,
   "id": "e6263c90",
   "metadata": {},
   "outputs": [],
   "source": [
    "# Load default YOLOv8n model (change to your custom model path if available)\n",
    "model = YOLO('yolov8n.pt')\n",
    "print('Model loaded successfully')"
   ]
  },
  {
   "cell_type": "code",
   "execution_count": null,
   "id": "357dd2ce",
   "metadata": {},
   "outputs": [],
   "source": [
    "# Minimal detection example (using the image_path variable)\n",
    "results = model(\"D:\\Documents\\Portfolio.github\\Vision2Clean-AI\\sample.jpg\")\n",
    "results[0].show()  # Display detection results\n",
    "print(results[0].boxes)  # Print detected bounding boxes"
   ]
  },
  {
   "cell_type": "code",
   "execution_count": null,
   "id": "b7712548",
   "metadata": {},
   "outputs": [],
   "source": [
    "# Minimal map visualization example\n",
    "# Replace with actual coordinates and detection info\n",
    "m = folium.Map(location=[12.9716, 77.5946], zoom_start=12)\n",
    "folium.Marker([12.9716, 77.5946], popup='Detected Waste: Plastic').add_to(m)\n",
    "\n",
    "m"
   ]
  }
 ],
 "metadata": {
  "kernelspec": {
   "display_name": "venv",
   "language": "python",
   "name": "python3"
  },
  "language_info": {
   "codemirror_mode": {
    "name": "ipython",
    "version": 3
   },
   "file_extension": ".py",
   "mimetype": "text/x-python",
   "name": "python",
   "nbconvert_exporter": "python",
   "pygments_lexer": "ipython3",
   "version": "3.11.8"
  }
 },
 "nbformat": 4,
 "nbformat_minor": 5
}
