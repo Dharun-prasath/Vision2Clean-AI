{
 "cells": [
  {
   "cell_type": "code",
   "execution_count": null,
   "id": "309729e3",
   "metadata": {},
   "outputs": [],
   "source": [
    "import cv2\n",
    "import torch                 # <-- Add this import\n",
    "from ultralytics import YOLO\n",
    "\n",
    "# Load YOLOv11 segmentation model\n",
    "model = YOLO(\"yolo11s-seg.pt\")\n",
    "\n",
    "# Open webcam (0 is usually the default webcam)\n",
    "cap = cv2.VideoCapture(0)\n",
    "\n",
    "# Check if webcam opened successfully\n",
    "if not cap.isOpened():\n",
    "    print(\"Error: Could not open webcam\")\n",
    "    exit()\n",
    "\n",
    "while True:\n",
    "    ret, frame = cap.read()\n",
    "    if not ret:\n",
    "        break\n",
    "\n",
    "    # Run YOLOv11 segmentation inference\n",
    "    device = \"cuda:0\" if torch.cuda.is_available() else \"cpu\"\n",
    "    results = model(frame, device=device)[0]\n",
    "\n",
    "    # Overlay masks and bounding boxes on the frame\n",
    "    annotated_frame = results.plot()  # returns frame with boxes and masks\n",
    "\n",
    "    # Display the annotated frame\n",
    "    cv2.imshow(\"YOLO11M Segmentation\", annotated_frame)\n",
    "\n",
    "    # Exit loop when 'q' is pressed\n",
    "    if cv2.waitKey(1) & 0xFF == ord('q'):\n",
    "        break\n",
    "\n",
    "# Release resources\n",
    "cap.release()\n",
    "cv2.destroyAllWindows()"
   ]
  }
 ],
 "metadata": {
  "kernelspec": {
   "display_name": "venv",
   "language": "python",
   "name": "python3"
  },
  "language_info": {
   "codemirror_mode": {
    "name": "ipython",
    "version": 3
   },
   "file_extension": ".py",
   "mimetype": "text/x-python",
   "name": "python",
   "nbconvert_exporter": "python",
   "pygments_lexer": "ipython3",
   "version": "3.11.8"
  }
 },
 "nbformat": 4,
 "nbformat_minor": 5
}
