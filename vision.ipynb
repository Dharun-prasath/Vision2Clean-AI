{
 "cells": [
  {
   "cell_type": "markdown",
   "id": "b160008b",
   "metadata": {},
   "source": [
    "VISION2CLEAN NOTEBOOK"
   ]
  },
  {
   "cell_type": "markdown",
   "id": "8d653aaa",
   "metadata": {},
   "source": [
    "## Minimal Setup for Vision2Clean AI\n",
    "This notebook demonstrates a minimal setup for waste detection using YOLOv11 and visualization on a map."
   ]
  },
  {
   "cell_type": "code",
   "execution_count": 10,
   "id": "d7b42b69",
   "metadata": {},
   "outputs": [
    {
     "name": "stdout",
     "output_type": "stream",
     "text": [
      "Requirement already satisfied: ultralytics in d:\\documents\\portfolio.github\\vision2clean-ai\\venv\\lib\\site-packages (8.3.195)\n",
      "Requirement already satisfied: opencv-python in d:\\documents\\portfolio.github\\vision2clean-ai\\venv\\lib\\site-packages (4.12.0.88)\n",
      "Requirement already satisfied: folium in d:\\documents\\portfolio.github\\vision2clean-ai\\venv\\lib\\site-packages (0.20.0)\n",
      "Requirement already satisfied: numpy>=1.23.0 in d:\\documents\\portfolio.github\\vision2clean-ai\\venv\\lib\\site-packages (from ultralytics) (2.2.6)\n",
      "Requirement already satisfied: matplotlib>=3.3.0 in d:\\documents\\portfolio.github\\vision2clean-ai\\venv\\lib\\site-packages (from ultralytics) (3.10.6)\n",
      "Requirement already satisfied: pillow>=7.1.2 in d:\\documents\\portfolio.github\\vision2clean-ai\\venv\\lib\\site-packages (from ultralytics) (11.3.0)\n",
      "Requirement already satisfied: pyyaml>=5.3.1 in d:\\documents\\portfolio.github\\vision2clean-ai\\venv\\lib\\site-packages (from ultralytics) (6.0.2)\n",
      "Requirement already satisfied: requests>=2.23.0 in d:\\documents\\portfolio.github\\vision2clean-ai\\venv\\lib\\site-packages (from ultralytics) (2.32.5)\n",
      "Requirement already satisfied: scipy>=1.4.1 in d:\\documents\\portfolio.github\\vision2clean-ai\\venv\\lib\\site-packages (from ultralytics) (1.16.1)\n",
      "Requirement already satisfied: torch>=1.8.0 in d:\\documents\\portfolio.github\\vision2clean-ai\\venv\\lib\\site-packages (from ultralytics) (2.8.0)\n",
      "Requirement already satisfied: torchvision>=0.9.0 in d:\\documents\\portfolio.github\\vision2clean-ai\\venv\\lib\\site-packages (from ultralytics) (0.23.0)\n",
      "Requirement already satisfied: psutil in d:\\documents\\portfolio.github\\vision2clean-ai\\venv\\lib\\site-packages (from ultralytics) (7.0.0)\n",
      "Requirement already satisfied: polars in d:\\documents\\portfolio.github\\vision2clean-ai\\venv\\lib\\site-packages (from ultralytics) (1.33.0)\n",
      "Requirement already satisfied: ultralytics-thop>=2.0.0 in d:\\documents\\portfolio.github\\vision2clean-ai\\venv\\lib\\site-packages (from ultralytics) (2.0.17)\n",
      "Requirement already satisfied: branca>=0.6.0 in d:\\documents\\portfolio.github\\vision2clean-ai\\venv\\lib\\site-packages (from folium) (0.8.1)\n",
      "Requirement already satisfied: jinja2>=2.9 in d:\\documents\\portfolio.github\\vision2clean-ai\\venv\\lib\\site-packages (from folium) (3.1.6)\n",
      "Requirement already satisfied: xyzservices in d:\\documents\\portfolio.github\\vision2clean-ai\\venv\\lib\\site-packages (from folium) (2025.4.0)\n",
      "Requirement already satisfied: MarkupSafe>=2.0 in d:\\documents\\portfolio.github\\vision2clean-ai\\venv\\lib\\site-packages (from jinja2>=2.9->folium) (3.0.2)\n",
      "Requirement already satisfied: contourpy>=1.0.1 in d:\\documents\\portfolio.github\\vision2clean-ai\\venv\\lib\\site-packages (from matplotlib>=3.3.0->ultralytics) (1.3.3)\n",
      "Requirement already satisfied: cycler>=0.10 in d:\\documents\\portfolio.github\\vision2clean-ai\\venv\\lib\\site-packages (from matplotlib>=3.3.0->ultralytics) (0.12.1)\n",
      "Requirement already satisfied: fonttools>=4.22.0 in d:\\documents\\portfolio.github\\vision2clean-ai\\venv\\lib\\site-packages (from matplotlib>=3.3.0->ultralytics) (4.59.2)\n",
      "Requirement already satisfied: kiwisolver>=1.3.1 in d:\\documents\\portfolio.github\\vision2clean-ai\\venv\\lib\\site-packages (from matplotlib>=3.3.0->ultralytics) (1.4.9)\n",
      "Requirement already satisfied: packaging>=20.0 in d:\\documents\\portfolio.github\\vision2clean-ai\\venv\\lib\\site-packages (from matplotlib>=3.3.0->ultralytics) (25.0)\n",
      "Requirement already satisfied: pyparsing>=2.3.1 in d:\\documents\\portfolio.github\\vision2clean-ai\\venv\\lib\\site-packages (from matplotlib>=3.3.0->ultralytics) (3.2.3)\n",
      "Requirement already satisfied: python-dateutil>=2.7 in d:\\documents\\portfolio.github\\vision2clean-ai\\venv\\lib\\site-packages (from matplotlib>=3.3.0->ultralytics) (2.9.0.post0)\n",
      "Requirement already satisfied: charset_normalizer<4,>=2 in d:\\documents\\portfolio.github\\vision2clean-ai\\venv\\lib\\site-packages (from requests>=2.23.0->ultralytics) (3.4.3)\n",
      "Requirement already satisfied: idna<4,>=2.5 in d:\\documents\\portfolio.github\\vision2clean-ai\\venv\\lib\\site-packages (from requests>=2.23.0->ultralytics) (3.10)\n",
      "Requirement already satisfied: urllib3<3,>=1.21.1 in d:\\documents\\portfolio.github\\vision2clean-ai\\venv\\lib\\site-packages (from requests>=2.23.0->ultralytics) (2.5.0)\n",
      "Requirement already satisfied: certifi>=2017.4.17 in d:\\documents\\portfolio.github\\vision2clean-ai\\venv\\lib\\site-packages (from requests>=2.23.0->ultralytics) (2025.8.3)\n",
      "Requirement already satisfied: filelock in d:\\documents\\portfolio.github\\vision2clean-ai\\venv\\lib\\site-packages (from torch>=1.8.0->ultralytics) (3.19.1)\n",
      "Requirement already satisfied: typing-extensions>=4.10.0 in d:\\documents\\portfolio.github\\vision2clean-ai\\venv\\lib\\site-packages (from torch>=1.8.0->ultralytics) (4.15.0)\n",
      "Requirement already satisfied: sympy>=1.13.3 in d:\\documents\\portfolio.github\\vision2clean-ai\\venv\\lib\\site-packages (from torch>=1.8.0->ultralytics) (1.14.0)\n",
      "Requirement already satisfied: networkx in d:\\documents\\portfolio.github\\vision2clean-ai\\venv\\lib\\site-packages (from torch>=1.8.0->ultralytics) (3.5)\n",
      "Requirement already satisfied: fsspec in d:\\documents\\portfolio.github\\vision2clean-ai\\venv\\lib\\site-packages (from torch>=1.8.0->ultralytics) (2025.9.0)\n",
      "Requirement already satisfied: six>=1.5 in d:\\documents\\portfolio.github\\vision2clean-ai\\venv\\lib\\site-packages (from python-dateutil>=2.7->matplotlib>=3.3.0->ultralytics) (1.17.0)\n",
      "Requirement already satisfied: mpmath<1.4,>=1.1.0 in d:\\documents\\portfolio.github\\vision2clean-ai\\venv\\lib\\site-packages (from sympy>=1.13.3->torch>=1.8.0->ultralytics) (1.3.0)\n",
      "Note: you may need to restart the kernel to use updated packages.\n"
     ]
    },
    {
     "name": "stderr",
     "output_type": "stream",
     "text": [
      "\n",
      "[notice] A new release of pip is available: 24.0 -> 25.2\n",
      "[notice] To update, run: python.exe -m pip install --upgrade pip\n"
     ]
    }
   ],
   "source": [
    "# Install required packages (uncomment if running for the first time)\n",
    "%pip install ultralytics opencv-python folium"
   ]
  },
  {
   "cell_type": "code",
   "execution_count": 11,
   "id": "7ec33359",
   "metadata": {},
   "outputs": [
    {
     "name": "stdout",
     "output_type": "stream",
     "text": [
      "YOLOv11/Ultralytics version: ultralytics.models.yolo.model\n",
      "OpenCV version: 4.12.0\n",
      "Folium version: 0.20.0\n"
     ]
    }
   ],
   "source": [
    "# Import required libraries\n",
    "from ultralytics import YOLO\n",
    "import cv2\n",
    "import folium\n",
    "\n",
    "print('YOLOv11/Ultralytics version:', YOLO.__module__)\n",
    "print('OpenCV version:', cv2.__version__)\n",
    "print('Folium version:', folium.__version__)"
   ]
  },
  {
   "cell_type": "code",
   "execution_count": 12,
   "id": "e6263c90",
   "metadata": {},
   "outputs": [
    {
     "name": "stdout",
     "output_type": "stream",
     "text": [
      "Model loaded successfully\n"
     ]
    }
   ],
   "source": [
    "# Load default YOLOv8n model (change to your custom model path if available)\n",
    "model = YOLO('yolov8n.pt')\n",
    "print('Model loaded successfully')"
   ]
  },
  {
   "cell_type": "code",
   "execution_count": 24,
   "id": "357dd2ce",
   "metadata": {},
   "outputs": [
    {
     "name": "stdout",
     "output_type": "stream",
     "text": [
      "\n",
      "image 1/1 D:\\Documents\\Portfolio.github\\Vision2Clean-AI\\sample.jpg: 448x640 1 person, 50.1ms\n",
      "Speed: 1.5ms preprocess, 50.1ms inference, 0.6ms postprocess per image at shape (1, 3, 448, 640)\n",
      "ultralytics.engine.results.Boxes object with attributes:\n",
      "\n",
      "cls: tensor([0.])\n",
      "conf: tensor([0.3003])\n",
      "data: tensor([[7.3831e+00, 5.0752e+01, 3.8900e+02, 2.8935e+02, 3.0027e-01, 0.0000e+00]])\n",
      "id: None\n",
      "is_track: False\n",
      "orig_shape: (408, 612)\n",
      "shape: torch.Size([1, 6])\n",
      "xywh: tensor([[198.1904, 170.0510, 381.6146, 238.5987]])\n",
      "xywhn: tensor([[0.3238, 0.4168, 0.6236, 0.5848]])\n",
      "xyxy: tensor([[  7.3831,  50.7516, 388.9977, 289.3503]])\n",
      "xyxyn: tensor([[0.0121, 0.1244, 0.6356, 0.7092]])\n"
     ]
    }
   ],
   "source": [
    "# Minimal detection example (using the image_path variable)\n",
    "results = model(\"D:\\Documents\\Portfolio.github\\Vision2Clean-AI\\sample.jpg\")\n",
    "results[0].show()  # Display detection results\n",
    "print(results[0].boxes)  # Print detected bounding boxes"
   ]
  },
  {
   "cell_type": "code",
   "execution_count": 20,
   "id": "b7712548",
   "metadata": {},
   "outputs": [
    {
     "data": {
      "text/html": [
       "<div style=\"width:100%;\"><div style=\"position:relative;width:100%;height:0;padding-bottom:60%;\"><span style=\"color:#565656\">Make this Notebook Trusted to load map: File -> Trust Notebook</span><iframe srcdoc=\"&lt;!DOCTYPE html&gt;\n",
       "&lt;html&gt;\n",
       "&lt;head&gt;\n",
       "    \n",
       "    &lt;meta http-equiv=&quot;content-type&quot; content=&quot;text/html; charset=UTF-8&quot; /&gt;\n",
       "    &lt;script src=&quot;https://cdn.jsdelivr.net/npm/leaflet@1.9.3/dist/leaflet.js&quot;&gt;&lt;/script&gt;\n",
       "    &lt;script src=&quot;https://code.jquery.com/jquery-3.7.1.min.js&quot;&gt;&lt;/script&gt;\n",
       "    &lt;script src=&quot;https://cdn.jsdelivr.net/npm/bootstrap@5.2.2/dist/js/bootstrap.bundle.min.js&quot;&gt;&lt;/script&gt;\n",
       "    &lt;script src=&quot;https://cdnjs.cloudflare.com/ajax/libs/Leaflet.awesome-markers/2.0.2/leaflet.awesome-markers.js&quot;&gt;&lt;/script&gt;\n",
       "    &lt;link rel=&quot;stylesheet&quot; href=&quot;https://cdn.jsdelivr.net/npm/leaflet@1.9.3/dist/leaflet.css&quot;/&gt;\n",
       "    &lt;link rel=&quot;stylesheet&quot; href=&quot;https://cdn.jsdelivr.net/npm/bootstrap@5.2.2/dist/css/bootstrap.min.css&quot;/&gt;\n",
       "    &lt;link rel=&quot;stylesheet&quot; href=&quot;https://netdna.bootstrapcdn.com/bootstrap/3.0.0/css/bootstrap-glyphicons.css&quot;/&gt;\n",
       "    &lt;link rel=&quot;stylesheet&quot; href=&quot;https://cdn.jsdelivr.net/npm/@fortawesome/fontawesome-free@6.2.0/css/all.min.css&quot;/&gt;\n",
       "    &lt;link rel=&quot;stylesheet&quot; href=&quot;https://cdnjs.cloudflare.com/ajax/libs/Leaflet.awesome-markers/2.0.2/leaflet.awesome-markers.css&quot;/&gt;\n",
       "    &lt;link rel=&quot;stylesheet&quot; href=&quot;https://cdn.jsdelivr.net/gh/python-visualization/folium/folium/templates/leaflet.awesome.rotate.min.css&quot;/&gt;\n",
       "    \n",
       "            &lt;meta name=&quot;viewport&quot; content=&quot;width=device-width,\n",
       "                initial-scale=1.0, maximum-scale=1.0, user-scalable=no&quot; /&gt;\n",
       "            &lt;style&gt;\n",
       "                #map_972e6b8a68dbbfd8fa80b976b858f75c {\n",
       "                    position: relative;\n",
       "                    width: 100.0%;\n",
       "                    height: 100.0%;\n",
       "                    left: 0.0%;\n",
       "                    top: 0.0%;\n",
       "                }\n",
       "                .leaflet-container { font-size: 1rem; }\n",
       "            &lt;/style&gt;\n",
       "\n",
       "            &lt;style&gt;html, body {\n",
       "                width: 100%;\n",
       "                height: 100%;\n",
       "                margin: 0;\n",
       "                padding: 0;\n",
       "            }\n",
       "            &lt;/style&gt;\n",
       "\n",
       "            &lt;style&gt;#map {\n",
       "                position:absolute;\n",
       "                top:0;\n",
       "                bottom:0;\n",
       "                right:0;\n",
       "                left:0;\n",
       "                }\n",
       "            &lt;/style&gt;\n",
       "\n",
       "            &lt;script&gt;\n",
       "                L_NO_TOUCH = false;\n",
       "                L_DISABLE_3D = false;\n",
       "            &lt;/script&gt;\n",
       "\n",
       "        \n",
       "&lt;/head&gt;\n",
       "&lt;body&gt;\n",
       "    \n",
       "    \n",
       "            &lt;div class=&quot;folium-map&quot; id=&quot;map_972e6b8a68dbbfd8fa80b976b858f75c&quot; &gt;&lt;/div&gt;\n",
       "        \n",
       "&lt;/body&gt;\n",
       "&lt;script&gt;\n",
       "    \n",
       "    \n",
       "            var map_972e6b8a68dbbfd8fa80b976b858f75c = L.map(\n",
       "                &quot;map_972e6b8a68dbbfd8fa80b976b858f75c&quot;,\n",
       "                {\n",
       "                    center: [12.9716, 77.5946],\n",
       "                    crs: L.CRS.EPSG3857,\n",
       "                    ...{\n",
       "  &quot;zoom&quot;: 12,\n",
       "  &quot;zoomControl&quot;: true,\n",
       "  &quot;preferCanvas&quot;: false,\n",
       "}\n",
       "\n",
       "                }\n",
       "            );\n",
       "\n",
       "            \n",
       "\n",
       "        \n",
       "    \n",
       "            var tile_layer_469511cc54b467b769c9deda457702a1 = L.tileLayer(\n",
       "                &quot;https://tile.openstreetmap.org/{z}/{x}/{y}.png&quot;,\n",
       "                {\n",
       "  &quot;minZoom&quot;: 0,\n",
       "  &quot;maxZoom&quot;: 19,\n",
       "  &quot;maxNativeZoom&quot;: 19,\n",
       "  &quot;noWrap&quot;: false,\n",
       "  &quot;attribution&quot;: &quot;\\u0026copy; \\u003ca href=\\&quot;https://www.openstreetmap.org/copyright\\&quot;\\u003eOpenStreetMap\\u003c/a\\u003e contributors&quot;,\n",
       "  &quot;subdomains&quot;: &quot;abc&quot;,\n",
       "  &quot;detectRetina&quot;: false,\n",
       "  &quot;tms&quot;: false,\n",
       "  &quot;opacity&quot;: 1,\n",
       "}\n",
       "\n",
       "            );\n",
       "        \n",
       "    \n",
       "            tile_layer_469511cc54b467b769c9deda457702a1.addTo(map_972e6b8a68dbbfd8fa80b976b858f75c);\n",
       "        \n",
       "    \n",
       "            var marker_90f7861c785cd1450f7e4d218e84d740 = L.marker(\n",
       "                [12.9716, 77.5946],\n",
       "                {\n",
       "}\n",
       "            ).addTo(map_972e6b8a68dbbfd8fa80b976b858f75c);\n",
       "        \n",
       "    \n",
       "        var popup_1a749ce9e29776906772eb798a1b634a = L.popup({\n",
       "  &quot;maxWidth&quot;: &quot;100%&quot;,\n",
       "});\n",
       "\n",
       "        \n",
       "            \n",
       "                var html_1efa69a42908376bc6522eec83f43bd5 = $(`&lt;div id=&quot;html_1efa69a42908376bc6522eec83f43bd5&quot; style=&quot;width: 100.0%; height: 100.0%;&quot;&gt;Detected Waste: Plastic&lt;/div&gt;`)[0];\n",
       "                popup_1a749ce9e29776906772eb798a1b634a.setContent(html_1efa69a42908376bc6522eec83f43bd5);\n",
       "            \n",
       "        \n",
       "\n",
       "        marker_90f7861c785cd1450f7e4d218e84d740.bindPopup(popup_1a749ce9e29776906772eb798a1b634a)\n",
       "        ;\n",
       "\n",
       "        \n",
       "    \n",
       "&lt;/script&gt;\n",
       "&lt;/html&gt;\" style=\"position:absolute;width:100%;height:100%;left:0;top:0;border:none !important;\" allowfullscreen webkitallowfullscreen mozallowfullscreen></iframe></div></div>"
      ],
      "text/plain": [
       "<folium.folium.Map at 0x2159f34e850>"
      ]
     },
     "execution_count": 20,
     "metadata": {},
     "output_type": "execute_result"
    }
   ],
   "source": [
    "# Minimal map visualization example\n",
    "# Replace with actual coordinates and detection info\n",
    "m = folium.Map(location=[12.9716, 77.5946], zoom_start=12)\n",
    "folium.Marker([12.9716, 77.5946], popup='Detected Waste: Plastic').add_to(m)\n",
    "\n",
    "m"
   ]
  }
 ],
 "metadata": {
  "kernelspec": {
   "display_name": "venv",
   "language": "python",
   "name": "python3"
  },
  "language_info": {
   "codemirror_mode": {
    "name": "ipython",
    "version": 3
   },
   "file_extension": ".py",
   "mimetype": "text/x-python",
   "name": "python",
   "nbconvert_exporter": "python",
   "pygments_lexer": "ipython3",
   "version": "3.11.8"
  }
 },
 "nbformat": 4,
 "nbformat_minor": 5
}
