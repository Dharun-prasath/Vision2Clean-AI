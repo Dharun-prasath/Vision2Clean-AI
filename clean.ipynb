{
 "cells": [
  {
   "cell_type": "code",
   "execution_count": 22,
   "id": "1898a425",
   "metadata": {},
   "outputs": [
    {
     "name": "stdout",
     "output_type": "stream",
     "text": [
      "CUDA available: False\n",
      "GPU count: 0\n"
     ]
    },
    {
     "ename": "AssertionError",
     "evalue": "Torch not compiled with CUDA enabled",
     "output_type": "error",
     "traceback": [
      "\u001b[31m---------------------------------------------------------------------------\u001b[39m",
      "\u001b[31mAssertionError\u001b[39m                            Traceback (most recent call last)",
      "\u001b[36mCell\u001b[39m\u001b[36m \u001b[39m\u001b[32mIn[22]\u001b[39m\u001b[32m, line 4\u001b[39m\n\u001b[32m      2\u001b[39m \u001b[38;5;28mprint\u001b[39m(\u001b[33m\"\u001b[39m\u001b[33mCUDA available:\u001b[39m\u001b[33m\"\u001b[39m, torch.cuda.is_available())\n\u001b[32m      3\u001b[39m \u001b[38;5;28mprint\u001b[39m(\u001b[33m\"\u001b[39m\u001b[33mGPU count:\u001b[39m\u001b[33m\"\u001b[39m, torch.cuda.device_count())\n\u001b[32m----> \u001b[39m\u001b[32m4\u001b[39m \u001b[38;5;28mprint\u001b[39m(\u001b[33m\"\u001b[39m\u001b[33mGPU name:\u001b[39m\u001b[33m\"\u001b[39m, \u001b[43mtorch\u001b[49m\u001b[43m.\u001b[49m\u001b[43mcuda\u001b[49m\u001b[43m.\u001b[49m\u001b[43mget_device_name\u001b[49m\u001b[43m(\u001b[49m\u001b[32;43m0\u001b[39;49m\u001b[43m)\u001b[49m)\n",
      "\u001b[36mFile \u001b[39m\u001b[32md:\\Documents\\Portfolio.github\\Vision2Clean-AI\\venv\\Lib\\site-packages\\torch\\cuda\\__init__.py:584\u001b[39m, in \u001b[36mget_device_name\u001b[39m\u001b[34m(device)\u001b[39m\n\u001b[32m    581\u001b[39m             \u001b[38;5;28mself\u001b[39m.dst_prev_stream = torch.cuda.current_stream(cur_stream.device)\n\u001b[32m    582\u001b[39m     torch.cuda.set_stream(cur_stream)\n\u001b[32m--> \u001b[39m\u001b[32m584\u001b[39m \u001b[38;5;28;01mdef\u001b[39;00m\u001b[38;5;250m \u001b[39m\u001b[34m__exit__\u001b[39m(\u001b[38;5;28mself\u001b[39m, \u001b[38;5;28mtype\u001b[39m: Any, value: Any, traceback: Any):\n\u001b[32m    585\u001b[39m     \u001b[38;5;66;03m# Local cur_stream variable for type refinement\u001b[39;00m\n\u001b[32m    586\u001b[39m     cur_stream = \u001b[38;5;28mself\u001b[39m.stream\n\u001b[32m    587\u001b[39m     \u001b[38;5;66;03m# If stream is None or no CUDA device available, return\u001b[39;00m\n",
      "\u001b[36mFile \u001b[39m\u001b[32md:\\Documents\\Portfolio.github\\Vision2Clean-AI\\venv\\Lib\\site-packages\\torch\\cuda\\__init__.py:616\u001b[39m, in \u001b[36mget_device_properties\u001b[39m\u001b[34m(device)\u001b[39m\n\u001b[32m    610\u001b[39m \u001b[38;5;28;01mdef\u001b[39;00m\u001b[38;5;250m \u001b[39m\u001b[34m_set_stream_by_id\u001b[39m(stream_id, device_index, device_type):\n\u001b[32m    611\u001b[39m \u001b[38;5;250m    \u001b[39m\u001b[33mr\u001b[39m\u001b[33;03m\"\"\"set stream specified by the stream id, device index and\u001b[39;00m\n\u001b[32m    612\u001b[39m \u001b[33;03m        device type\u001b[39;00m\n\u001b[32m    613\u001b[39m \n\u001b[32m    614\u001b[39m \u001b[33;03m    Args: stream_id (int): stream id in stream pool\u001b[39;00m\n\u001b[32m    615\u001b[39m \u001b[33;03m          device_index (int): device index in topo\u001b[39;00m\n\u001b[32m--> \u001b[39m\u001b[32m616\u001b[39m \u001b[33;03m          device_type (int): enum device type\u001b[39;00m\n\u001b[32m    617\u001b[39m \u001b[33;03m    \"\"\"\u001b[39;00m\n\u001b[32m    618\u001b[39m     torch._C._cuda_setStream(\n\u001b[32m    619\u001b[39m         stream_id=stream_id,\n\u001b[32m    620\u001b[39m         device_index=device_index,\n\u001b[32m    621\u001b[39m         device_type=device_type,\n\u001b[32m    622\u001b[39m     )\n",
      "\u001b[36mFile \u001b[39m\u001b[32md:\\Documents\\Portfolio.github\\Vision2Clean-AI\\venv\\Lib\\site-packages\\torch\\cuda\\__init__.py:403\u001b[39m, in \u001b[36m_lazy_init\u001b[39m\u001b[34m()\u001b[39m\n\u001b[32m    402\u001b[39m \u001b[38;5;28;01mclass\u001b[39;00m\u001b[38;5;250m \u001b[39m\u001b[34;01mcudaStatus\u001b[39;00m:\n\u001b[32m--> \u001b[39m\u001b[32m403\u001b[39m     SUCCESS: \u001b[38;5;28mint\u001b[39m = \u001b[32m0\u001b[39m\n\u001b[32m    404\u001b[39m     ERROR_NOT_READY: \u001b[38;5;28mint\u001b[39m = \u001b[32m34\u001b[39m\n",
      "\u001b[31mAssertionError\u001b[39m: Torch not compiled with CUDA enabled"
     ]
    }
   ],
   "source": [
    "import torch\n",
    "print(\"CUDA available:\", torch.cuda.is_available())\n",
    "print(\"GPU count:\", torch.cuda.device_count())\n",
    "print(\"GPU name:\", torch.cuda.get_device_name(0))\n"
   ]
  },
  {
   "cell_type": "code",
   "execution_count": null,
   "id": "bd972bcb",
   "metadata": {},
   "outputs": [],
   "source": [
    "import torch\n",
    "\n",
    "cuda_available = torch.cuda.is_available()\n",
    "print(\"CUDA available:\", cuda_available)\n",
    "if cuda_available:\n",
    "    print(\"GPU count:\", torch.cuda.device_count())\n",
    "    print(\"GPU name:\", torch.cuda.get_device_name(0))\n",
    "else:\n",
    "    print(\"CUDA is not available. Possible reasons:\")\n",
    "    print(\"- No compatible NVIDIA GPU detected.\")\n",
    "    print(\"- CUDA drivers or toolkit not installed.\")\n",
    "    print(\"- PyTorch not installed with CUDA support.\")\n",
    "    print(\"- CUDA is disabled or not configured correctly.\")"
   ]
  },
  {
   "cell_type": "code",
   "execution_count": null,
   "id": "5065cec5",
   "metadata": {},
   "outputs": [],
   "source": [
    "from ultralytics import YOLO\n",
    "\n",
    "model = YOLO(\"yolo11s-seg.pt\")\n",
    "\n",
    "model.train(\n",
    "    data=\"Dataset/data.yaml\",\n",
    "    epochs=50,\n",
    "    imgsz=640,\n",
    "    batch=8,\n",
    "    device=device   # use the correct device variable\n",
    ")\n"
   ]
  }
 ],
 "metadata": {
  "kernelspec": {
   "display_name": "venv",
   "language": "python",
   "name": "python3"
  },
  "language_info": {
   "codemirror_mode": {
    "name": "ipython",
    "version": 3
   },
   "file_extension": ".py",
   "mimetype": "text/x-python",
   "name": "python",
   "nbconvert_exporter": "python",
   "pygments_lexer": "ipython3",
   "version": "3.11.8"
  }
 },
 "nbformat": 4,
 "nbformat_minor": 5
}
